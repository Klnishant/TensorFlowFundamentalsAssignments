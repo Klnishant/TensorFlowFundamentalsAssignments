{
 "cells": [
  {
   "cell_type": "markdown",
   "id": "8172b97a-e3dd-4332-bcf2-3991aa24d6dc",
   "metadata": {},
   "source": [
    "## Objective: The objective of this assignment is to gain practical experience with fundamental operations in TensorFlow, including creating and manipulating matrices, performing arithmetic operations on tensors, and understanding the difference between TensorFlow constants and variables."
   ]
  },
  {
   "cell_type": "markdown",
   "id": "bab81fed-cdd5-4e28-b096-f889defca08b",
   "metadata": {},
   "source": [
    "## Part 1: Theoretical Questions"
   ]
  },
  {
   "cell_type": "markdown",
   "id": "442755f9-6010-4d13-a591-9947047dee2b",
   "metadata": {},
   "source": [
    "### 1. What are the different data structures used in Tensorflow?. Give some examples."
   ]
  },
  {
   "cell_type": "markdown",
   "id": "4e2b85a8-e403-43ed-a68b-335d42341009",
   "metadata": {},
   "source": [
    "In TensorFlow, data is represented and manipulated using various data structures. Some of the commonly used data structures in TensorFlow are:\n",
    "\n",
    "1. **Tensors**: Tensors are the primary data structures in TensorFlow. They are similar to multi-dimensional arrays and can be used for representing scalars, vectors, matrices, and higher-dimensional data. Tensors can be constants (immutable) or variables (mutable). TensorFlow uses tensors for all computations and operations. Examples:\n",
    "\n",
    "```python\n",
    "import tensorflow as tf\n",
    "\n",
    "# Scalar tensor (rank-0 tensor)\n",
    "scalar = tf.constant(3.14)\n",
    "\n",
    "# Vector tensor (rank-1 tensor)\n",
    "vector = tf.constant([1, 2, 3, 4])\n",
    "\n",
    "# Matrix tensor (rank-2 tensor)\n",
    "matrix = tf.constant([[1, 2], [3, 4]])\n",
    "\n",
    "# Higher-dimensional tensor (rank-3 tensor)\n",
    "tensor3D = tf.constant([[[1, 2], [3, 4]], [[5, 6], [7, 8]]])\n",
    "```\n",
    "\n",
    "2. **Variables**: Variables are special tensors used to hold and update trainable parameters during model training. They are typically used for model weights and biases. Variables must be explicitly initialized and can be updated during training. Examples:\n",
    "\n",
    "```python\n",
    "import tensorflow as tf\n",
    "\n",
    "# Define variables\n",
    "weights = tf.Variable(tf.random.normal(shape=(10, 20), mean=0.0, stddev=0.1))\n",
    "biases = tf.Variable(tf.zeros(shape=(20,)))\n",
    "\n",
    "# Initialize variables\n",
    "init = tf.compat.v1.global_variables_initializer()\n",
    "with tf.compat.v1.Session() as sess:\n",
    "    sess.run(init)\n",
    "```\n",
    "\n",
    "3. **Placeholders**: Placeholders are used for feeding external data into TensorFlow graphs. They are typically used in the context of TensorFlow's older session-based execution mode and are not commonly used in TensorFlow 2.x. Examples:\n",
    "\n",
    "```python\n",
    "import tensorflow as tf\n",
    "\n",
    "# Define a placeholder for input data (shape=None means it can take any shape)\n",
    "input_placeholder = tf.compat.v1.placeholder(tf.float32, shape=None)\n",
    "\n",
    "# Perform some operation using the placeholder\n",
    "output = input_placeholder + 1.0\n",
    "\n",
    "# Execute the operation by feeding data to the placeholder\n",
    "with tf.compat.v1.Session() as sess:\n",
    "    result = sess.run(output, feed_dict={input_placeholder: [1.0, 2.0, 3.0]})\n",
    "    print(result)  # Output: [2. 3. 4.]\n",
    "```\n",
    "\n",
    "4. **Datasets**: TensorFlow's Dataset API provides an efficient and convenient way to work with large-scale data during training. Datasets allow you to represent collections of data elements (e.g., images, text samples) and apply various transformations to them. Examples:\n",
    "\n",
    "```python\n",
    "import tensorflow as tf\n",
    "\n",
    "# Create a dataset from a Python list\n",
    "data = [1, 2, 3, 4, 5]\n",
    "dataset = tf.data.Dataset.from_tensor_slices(data)\n",
    "\n",
    "# Apply transformations to the dataset\n",
    "dataset = dataset.map(lambda x: x * 2)\n",
    "\n",
    "# Iterate through the dataset\n",
    "for item in dataset:\n",
    "    print(item.numpy())  # Output: 2, 4, 6, 8, 10\n",
    "```\n",
    "\n",
    "These are some of the primary data structures used in TensorFlow for representing and manipulating data during model construction, training, and inference. TensorFlow provides a rich set of functions and operations to work with these data structures effectively."
   ]
  },
  {
   "cell_type": "markdown",
   "id": "adbae42b-0eaf-43b8-ae10-283e7d8e9ed7",
   "metadata": {},
   "source": [
    "### 2. How does the TensorFlow constant differ from a TensorFlow variable? Explain with an example."
   ]
  },
  {
   "cell_type": "markdown",
   "id": "2e12de11-cb61-4fff-93f8-40b679339d90",
   "metadata": {},
   "source": [
    "In TensorFlow, both constants and variables are used to store data, but they have different characteristics and purposes.\n",
    "\n",
    "**TensorFlow Constants**:\n",
    "A TensorFlow constant is an immutable tensor whose value cannot be changed after it is initialized. Once a constant is created, its value remains the same throughout the execution of the TensorFlow graph. Constants are typically used for storing fixed data that does not change during training, such as hyperparameters or fixed input data.\n",
    "\n",
    "**Example of TensorFlow Constants**:\n",
    "```python\n",
    "import tensorflow as tf\n",
    "\n",
    "# Define TensorFlow constants\n",
    "a = tf.constant(2.0)\n",
    "b = tf.constant(3.0)\n",
    "\n",
    "# Perform some operations using the constants\n",
    "sum_ab = a + b\n",
    "product_ab = a * b\n",
    "\n",
    "# Run the TensorFlow session to evaluate the operations\n",
    "with tf.compat.v1.Session() as sess:\n",
    "    result_sum_ab = sess.run(sum_ab)\n",
    "    result_product_ab = sess.run(product_ab)\n",
    "    print(\"Sum:\", result_sum_ab)  # Output: Sum: 5.0\n",
    "    print(\"Product:\", result_product_ab)  # Output: Product: 6.0\n",
    "```\n",
    "\n",
    "**TensorFlow Variables**:\n",
    "In contrast, TensorFlow variables are mutable tensors that can be used to store and update trainable parameters during model training. Variables are typically used for model weights and biases, which need to be updated during the optimization process. Variables must be explicitly initialized and can be modified during training.\n",
    "\n",
    "**Example of TensorFlow Variables**:\n",
    "```python\n",
    "import tensorflow as tf\n",
    "\n",
    "# Define TensorFlow variables\n",
    "weights = tf.Variable(tf.random.normal(shape=(2, 3), mean=0.0, stddev=0.1))\n",
    "biases = tf.Variable(tf.zeros(shape=(3,)))\n",
    "\n",
    "# Initialize variables\n",
    "init = tf.compat.v1.global_variables_initializer()\n",
    "with tf.compat.v1.Session() as sess:\n",
    "    sess.run(init)\n",
    "\n",
    "# Update variables during training (example)\n",
    "new_weights = tf.Variable(tf.ones(shape=(2, 3)))\n",
    "update_op = weights.assign(new_weights)\n",
    "\n",
    "# Run the TensorFlow session to perform the update\n",
    "with tf.compat.v1.Session() as sess:\n",
    "    sess.run(update_op)\n",
    "    updated_weights = sess.run(weights)\n",
    "    print(\"Updated Weights:\", updated_weights)\n",
    "```\n",
    "\n",
    "**Differences Summary**:\n",
    "1. Constants are immutable and have fixed values throughout the execution, while variables are mutable and can be updated during training.\n",
    "2. Constants are used for storing fixed data, while variables are used for storing trainable parameters like model weights and biases.\n",
    "3. Constants do not require explicit initialization, while variables must be initialized before using them in the session.\n",
    "\n",
    "In summary, TensorFlow constants and variables serve different purposes in deep learning models. Constants are used for fixed data, while variables are used for trainable parameters that need to be updated during training. Understanding these differences is crucial when designing and training TensorFlow models effectively."
   ]
  },
  {
   "cell_type": "markdown",
   "id": "01d29e24-6db7-4c22-8a6e-d276e1f25fc0",
   "metadata": {},
   "source": [
    "### 3. Describe the process of matrix addition, multiplication, and elements wise operations in TensorFlow"
   ]
  },
  {
   "cell_type": "markdown",
   "id": "70b6cd1e-f7fd-4da6-9a61-24381b69dc6b",
   "metadata": {},
   "source": [
    "Ans--> In TensorFlow, matrix addition, multiplication, and element-wise operations are fundamental mathematical operations used in various deep learning models and computations. These operations are performed using tensors, which are the primary data structures in TensorFlow. Here's an overview of each process:\n",
    "\n",
    "1. **Matrix Addition**:\n",
    "Matrix addition involves adding two matrices element-wise. To perform matrix addition in TensorFlow, you can use the `tf.add()` function or the `+` operator."
   ]
  },
  {
   "cell_type": "code",
   "execution_count": 2,
   "id": "6d904b20-e02b-4750-b8ad-2d4ecbc8fc74",
   "metadata": {},
   "outputs": [
    {
     "name": "stdout",
     "output_type": "stream",
     "text": [
      "Collecting tensorflow\n",
      "  Downloading tensorflow-2.13.0-cp310-cp310-manylinux_2_17_x86_64.manylinux2014_x86_64.whl (524.1 MB)\n",
      "\u001b[2K     \u001b[90m━━━━━━━━━━━━━━━━━━━━━━━━━━━━━━━━━━━━━━━\u001b[0m \u001b[32m524.1/524.1 MB\u001b[0m \u001b[31m2.8 MB/s\u001b[0m eta \u001b[36m0:00:00\u001b[0m00:01\u001b[0m00:01\u001b[0m\n",
      "\u001b[?25hRequirement already satisfied: packaging in /opt/conda/lib/python3.10/site-packages (from tensorflow) (22.0)\n",
      "Requirement already satisfied: setuptools in /opt/conda/lib/python3.10/site-packages (from tensorflow) (65.5.1)\n",
      "Collecting opt-einsum>=2.3.2\n",
      "  Downloading opt_einsum-3.3.0-py3-none-any.whl (65 kB)\n",
      "\u001b[2K     \u001b[90m━━━━━━━━━━━━━━━━━━━━━━━━━━━━━━━━━━━━━━━━\u001b[0m \u001b[32m65.5/65.5 kB\u001b[0m \u001b[31m13.6 MB/s\u001b[0m eta \u001b[36m0:00:00\u001b[0m\n",
      "\u001b[?25hCollecting libclang>=13.0.0\n",
      "  Downloading libclang-16.0.6-py2.py3-none-manylinux2010_x86_64.whl (22.9 MB)\n",
      "\u001b[2K     \u001b[90m━━━━━━━━━━━━━━━━━━━━━━━━━━━━━━━━━━━━━━━━\u001b[0m \u001b[32m22.9/22.9 MB\u001b[0m \u001b[31m56.3 MB/s\u001b[0m eta \u001b[36m0:00:00\u001b[0m00:01\u001b[0m00:01\u001b[0m\n",
      "\u001b[?25hCollecting tensorboard<2.14,>=2.13\n",
      "  Downloading tensorboard-2.13.0-py3-none-any.whl (5.6 MB)\n",
      "\u001b[2K     \u001b[90m━━━━━━━━━━━━━━━━━━━━━━━━━━━━━━━━━━━━━━━━\u001b[0m \u001b[32m5.6/5.6 MB\u001b[0m \u001b[31m77.9 MB/s\u001b[0m eta \u001b[36m0:00:00\u001b[0m:00:01\u001b[0m00:01\u001b[0m\n",
      "\u001b[?25hRequirement already satisfied: numpy<=1.24.3,>=1.22 in /opt/conda/lib/python3.10/site-packages (from tensorflow) (1.23.5)\n",
      "Collecting termcolor>=1.1.0\n",
      "  Downloading termcolor-2.3.0-py3-none-any.whl (6.9 kB)\n",
      "Collecting gast<=0.4.0,>=0.2.1\n",
      "  Downloading gast-0.4.0-py3-none-any.whl (9.8 kB)\n",
      "Collecting flatbuffers>=23.1.21\n",
      "  Downloading flatbuffers-23.5.26-py2.py3-none-any.whl (26 kB)\n",
      "Collecting astunparse>=1.6.0\n",
      "  Downloading astunparse-1.6.3-py2.py3-none-any.whl (12 kB)\n",
      "Collecting grpcio<2.0,>=1.24.3\n",
      "  Downloading grpcio-1.56.2-cp310-cp310-manylinux_2_17_x86_64.manylinux2014_x86_64.whl (5.2 MB)\n",
      "\u001b[2K     \u001b[90m━━━━━━━━━━━━━━━━━━━━━━━━━━━━━━━━━━━━━━━━\u001b[0m \u001b[32m5.2/5.2 MB\u001b[0m \u001b[31m79.1 MB/s\u001b[0m eta \u001b[36m0:00:00\u001b[0mta \u001b[36m0:00:01\u001b[0m\n",
      "\u001b[?25hRequirement already satisfied: typing-extensions<4.6.0,>=3.6.6 in /opt/conda/lib/python3.10/site-packages (from tensorflow) (4.4.0)\n",
      "Collecting tensorflow-io-gcs-filesystem>=0.23.1\n",
      "  Downloading tensorflow_io_gcs_filesystem-0.32.0-cp310-cp310-manylinux_2_12_x86_64.manylinux2010_x86_64.whl (2.4 MB)\n",
      "\u001b[2K     \u001b[90m━━━━━━━━━━━━━━━━━━━━━━━━━━━━━━━━━━━━━━━━\u001b[0m \u001b[32m2.4/2.4 MB\u001b[0m \u001b[31m67.1 MB/s\u001b[0m eta \u001b[36m0:00:00\u001b[0m:00:01\u001b[0m\n",
      "\u001b[?25hCollecting keras<2.14,>=2.13.1\n",
      "  Downloading keras-2.13.1-py3-none-any.whl (1.7 MB)\n",
      "\u001b[2K     \u001b[90m━━━━━━━━━━━━━━━━━━━━━━━━━━━━━━━━━━━━━━━━\u001b[0m \u001b[32m1.7/1.7 MB\u001b[0m \u001b[31m73.9 MB/s\u001b[0m eta \u001b[36m0:00:00\u001b[0m\n",
      "\u001b[?25hCollecting google-pasta>=0.1.1\n",
      "  Downloading google_pasta-0.2.0-py3-none-any.whl (57 kB)\n",
      "\u001b[2K     \u001b[90m━━━━━━━━━━━━━━━━━━━━━━━━━━━━━━━━━━━━━━━━\u001b[0m \u001b[32m57.5/57.5 kB\u001b[0m \u001b[31m11.7 MB/s\u001b[0m eta \u001b[36m0:00:00\u001b[0m\n",
      "\u001b[?25hCollecting absl-py>=1.0.0\n",
      "  Downloading absl_py-1.4.0-py3-none-any.whl (126 kB)\n",
      "\u001b[2K     \u001b[90m━━━━━━━━━━━━━━━━━━━━━━━━━━━━━━━━━━━━━━\u001b[0m \u001b[32m126.5/126.5 kB\u001b[0m \u001b[31m22.8 MB/s\u001b[0m eta \u001b[36m0:00:00\u001b[0m\n",
      "\u001b[?25hRequirement already satisfied: protobuf!=4.21.0,!=4.21.1,!=4.21.2,!=4.21.3,!=4.21.4,!=4.21.5,<5.0.0dev,>=3.20.3 in /opt/conda/lib/python3.10/site-packages (from tensorflow) (4.21.11)\n",
      "Collecting wrapt>=1.11.0\n",
      "  Downloading wrapt-1.15.0-cp310-cp310-manylinux_2_5_x86_64.manylinux1_x86_64.manylinux_2_17_x86_64.manylinux2014_x86_64.whl (78 kB)\n",
      "\u001b[2K     \u001b[90m━━━━━━━━━━━━━━━━━━━━━━━━━━━━━━━━━━━━━━━━\u001b[0m \u001b[32m78.4/78.4 kB\u001b[0m \u001b[31m13.7 MB/s\u001b[0m eta \u001b[36m0:00:00\u001b[0m\n",
      "\u001b[?25hRequirement already satisfied: h5py>=2.9.0 in /opt/conda/lib/python3.10/site-packages (from tensorflow) (3.7.0)\n",
      "Requirement already satisfied: six>=1.12.0 in /opt/conda/lib/python3.10/site-packages (from tensorflow) (1.16.0)\n",
      "Collecting tensorflow-estimator<2.14,>=2.13.0\n",
      "  Downloading tensorflow_estimator-2.13.0-py2.py3-none-any.whl (440 kB)\n",
      "\u001b[2K     \u001b[90m━━━━━━━━━━━━━━━━━━━━━━━━━━━━━━━━━━━━━━\u001b[0m \u001b[32m440.8/440.8 kB\u001b[0m \u001b[31m24.3 MB/s\u001b[0m eta \u001b[36m0:00:00\u001b[0m\n",
      "\u001b[?25hRequirement already satisfied: wheel<1.0,>=0.23.0 in /opt/conda/lib/python3.10/site-packages (from astunparse>=1.6.0->tensorflow) (0.38.4)\n",
      "Collecting tensorboard-data-server<0.8.0,>=0.7.0\n",
      "  Downloading tensorboard_data_server-0.7.1-py3-none-manylinux2014_x86_64.whl (6.6 MB)\n",
      "\u001b[2K     \u001b[90m━━━━━━━━━━━━━━━━━━━━━━━━━━━━━━━━━━━━━━━━\u001b[0m \u001b[32m6.6/6.6 MB\u001b[0m \u001b[31m78.9 MB/s\u001b[0m eta \u001b[36m0:00:00\u001b[0m:00:01\u001b[0m00:01\u001b[0m\n",
      "\u001b[?25hCollecting google-auth-oauthlib<1.1,>=0.5\n",
      "  Downloading google_auth_oauthlib-1.0.0-py2.py3-none-any.whl (18 kB)\n",
      "Requirement already satisfied: requests<3,>=2.21.0 in /opt/conda/lib/python3.10/site-packages (from tensorboard<2.14,>=2.13->tensorflow) (2.28.1)\n",
      "Collecting werkzeug>=1.0.1\n",
      "  Downloading Werkzeug-2.3.6-py3-none-any.whl (242 kB)\n",
      "\u001b[2K     \u001b[90m━━━━━━━━━━━━━━━━━━━━━━━━━━━━━━━━━━━━━━\u001b[0m \u001b[32m242.5/242.5 kB\u001b[0m \u001b[31m30.1 MB/s\u001b[0m eta \u001b[36m0:00:00\u001b[0m\n",
      "\u001b[?25hCollecting markdown>=2.6.8\n",
      "  Downloading Markdown-3.4.3-py3-none-any.whl (93 kB)\n",
      "\u001b[2K     \u001b[90m━━━━━━━━━━━━━━━━━━━━━━━━━━━━━━━━━━━━━━━━\u001b[0m \u001b[32m93.9/93.9 kB\u001b[0m \u001b[31m16.1 MB/s\u001b[0m eta \u001b[36m0:00:00\u001b[0m\n",
      "\u001b[?25hCollecting google-auth<3,>=1.6.3\n",
      "  Downloading google_auth-2.22.0-py2.py3-none-any.whl (181 kB)\n",
      "\u001b[2K     \u001b[90m━━━━━━━━━━━━━━━━━━━━━━━━━━━━━━━━━━━━━━\u001b[0m \u001b[32m181.8/181.8 kB\u001b[0m \u001b[31m27.0 MB/s\u001b[0m eta \u001b[36m0:00:00\u001b[0m\n",
      "\u001b[?25hRequirement already satisfied: urllib3<2.0 in /opt/conda/lib/python3.10/site-packages (from google-auth<3,>=1.6.3->tensorboard<2.14,>=2.13->tensorflow) (1.26.13)\n",
      "Collecting cachetools<6.0,>=2.0.0\n",
      "  Downloading cachetools-5.3.1-py3-none-any.whl (9.3 kB)\n",
      "Collecting rsa<5,>=3.1.4\n",
      "  Downloading rsa-4.9-py3-none-any.whl (34 kB)\n",
      "Collecting pyasn1-modules>=0.2.1\n",
      "  Downloading pyasn1_modules-0.3.0-py2.py3-none-any.whl (181 kB)\n",
      "\u001b[2K     \u001b[90m━━━━━━━━━━━━━━━━━━━━━━━━━━━━━━━━━━━━━━\u001b[0m \u001b[32m181.3/181.3 kB\u001b[0m \u001b[31m26.2 MB/s\u001b[0m eta \u001b[36m0:00:00\u001b[0m\n",
      "\u001b[?25hCollecting requests-oauthlib>=0.7.0\n",
      "  Downloading requests_oauthlib-1.3.1-py2.py3-none-any.whl (23 kB)\n",
      "Requirement already satisfied: idna<4,>=2.5 in /opt/conda/lib/python3.10/site-packages (from requests<3,>=2.21.0->tensorboard<2.14,>=2.13->tensorflow) (3.4)\n",
      "Requirement already satisfied: charset-normalizer<3,>=2 in /opt/conda/lib/python3.10/site-packages (from requests<3,>=2.21.0->tensorboard<2.14,>=2.13->tensorflow) (2.1.1)\n",
      "Requirement already satisfied: certifi>=2017.4.17 in /opt/conda/lib/python3.10/site-packages (from requests<3,>=2.21.0->tensorboard<2.14,>=2.13->tensorflow) (2022.12.7)\n",
      "Requirement already satisfied: MarkupSafe>=2.1.1 in /opt/conda/lib/python3.10/site-packages (from werkzeug>=1.0.1->tensorboard<2.14,>=2.13->tensorflow) (2.1.1)\n",
      "Collecting pyasn1<0.6.0,>=0.4.6\n",
      "  Downloading pyasn1-0.5.0-py2.py3-none-any.whl (83 kB)\n",
      "\u001b[2K     \u001b[90m━━━━━━━━━━━━━━━━━━━━━━━━━━━━━━━━━━━━━━━━\u001b[0m \u001b[32m83.9/83.9 kB\u001b[0m \u001b[31m15.6 MB/s\u001b[0m eta \u001b[36m0:00:00\u001b[0m\n",
      "\u001b[?25hRequirement already satisfied: oauthlib>=3.0.0 in /opt/conda/lib/python3.10/site-packages (from requests-oauthlib>=0.7.0->google-auth-oauthlib<1.1,>=0.5->tensorboard<2.14,>=2.13->tensorflow) (3.2.2)\n",
      "Installing collected packages: libclang, flatbuffers, wrapt, werkzeug, termcolor, tensorflow-io-gcs-filesystem, tensorflow-estimator, tensorboard-data-server, pyasn1, opt-einsum, markdown, keras, grpcio, google-pasta, gast, cachetools, astunparse, absl-py, rsa, requests-oauthlib, pyasn1-modules, google-auth, google-auth-oauthlib, tensorboard, tensorflow\n",
      "Successfully installed absl-py-1.4.0 astunparse-1.6.3 cachetools-5.3.1 flatbuffers-23.5.26 gast-0.4.0 google-auth-2.22.0 google-auth-oauthlib-1.0.0 google-pasta-0.2.0 grpcio-1.56.2 keras-2.13.1 libclang-16.0.6 markdown-3.4.3 opt-einsum-3.3.0 pyasn1-0.5.0 pyasn1-modules-0.3.0 requests-oauthlib-1.3.1 rsa-4.9 tensorboard-2.13.0 tensorboard-data-server-0.7.1 tensorflow-2.13.0 tensorflow-estimator-2.13.0 tensorflow-io-gcs-filesystem-0.32.0 termcolor-2.3.0 werkzeug-2.3.6 wrapt-1.15.0\n",
      "Note: you may need to restart the kernel to use updated packages.\n"
     ]
    }
   ],
   "source": [
    "%pip install tensorflow"
   ]
  },
  {
   "cell_type": "code",
   "execution_count": 4,
   "id": "08c8ff16-b4a2-449e-b455-fb215052ac1a",
   "metadata": {},
   "outputs": [
    {
     "name": "stdout",
     "output_type": "stream",
     "text": [
      "Result (using tf.add()):\n",
      "tf.Tensor(\n",
      "[[ 6  8]\n",
      " [10 12]], shape=(2, 2), dtype=int32)\n",
      "Result (using + operator):\n",
      "tf.Tensor(\n",
      "[[ 6  8]\n",
      " [10 12]], shape=(2, 2), dtype=int32)\n"
     ]
    }
   ],
   "source": [
    "import tensorflow as tf\n",
    "\n",
    "# Define two matrices as constants\n",
    "matrix_a = tf.constant([[1, 2], [3, 4]])\n",
    "matrix_b = tf.constant([[5, 6], [7, 8]])\n",
    "\n",
    "# Perform matrix addition using the `tf.add()` function\n",
    "result_add = tf.add(matrix_a, matrix_b)\n",
    "\n",
    "# Alternatively, perform matrix addition using the `+` operator\n",
    "result_add_alt = matrix_a + matrix_b\n",
    "\n",
    "# Run the TensorFlow session to evaluate the result\n",
    "with tf.compat.v1.Session() as sess:\n",
    "    print(\"Result (using tf.add()):\")\n",
    "    print(result_add)\n",
    "    print(\"Result (using + operator):\")\n",
    "    print(result_add_alt)"
   ]
  },
  {
   "cell_type": "markdown",
   "id": "a672aa49-d891-43f9-9147-f762f3b424cb",
   "metadata": {},
   "source": [
    "2. **Matrix Multiplication**:\n",
    "Matrix multiplication involves multiplying two matrices to produce a new matrix. In TensorFlow, you can use the `tf.matmul()` function for matrix multiplication."
   ]
  },
  {
   "cell_type": "code",
   "execution_count": 5,
   "id": "9e9c5aa8-17fc-4f20-bef4-f1591d847881",
   "metadata": {},
   "outputs": [
    {
     "name": "stdout",
     "output_type": "stream",
     "text": [
      "Result (matrix multiplication):\n",
      "tf.Tensor(\n",
      "[[19 22]\n",
      " [43 50]], shape=(2, 2), dtype=int32)\n"
     ]
    }
   ],
   "source": [
    "import tensorflow as tf\n",
    "\n",
    "# Define two matrices as constants\n",
    "matrix_a = tf.constant([[1, 2], [3, 4]])\n",
    "matrix_b = tf.constant([[5, 6], [7, 8]])\n",
    "\n",
    "# Perform matrix multiplication using the `tf.matmul()` function\n",
    "result_multiply = tf.matmul(matrix_a, matrix_b)\n",
    "\n",
    "# Run the TensorFlow session to evaluate the result\n",
    "with tf.compat.v1.Session() as sess:\n",
    "    print(\"Result (matrix multiplication):\")\n",
    "    print(result_multiply)"
   ]
  },
  {
   "cell_type": "markdown",
   "id": "0c75c759-3abd-4520-9616-819db05d946b",
   "metadata": {},
   "source": [
    "3. **Element-wise Operations**:\n",
    "Element-wise operations involve applying an operation to each element of a tensor independently. In TensorFlow, you can use various element-wise functions like `tf.add()`, `tf.subtract()`, `tf.multiply()`, `tf.divide()`, etc."
   ]
  },
  {
   "cell_type": "code",
   "execution_count": 6,
   "id": "503389d8-0ce1-49f6-9f62-bbd803a68358",
   "metadata": {},
   "outputs": [
    {
     "name": "stdout",
     "output_type": "stream",
     "text": [
      "Result (element-wise addition):\n",
      "tf.Tensor(\n",
      "[[3 4]\n",
      " [5 6]], shape=(2, 2), dtype=int32)\n",
      "Result (element-wise subtraction):\n",
      "tf.Tensor(\n",
      "[[0 1]\n",
      " [2 3]], shape=(2, 2), dtype=int32)\n",
      "Result (element-wise multiplication):\n",
      "tf.Tensor(\n",
      "[[ 3  6]\n",
      " [ 9 12]], shape=(2, 2), dtype=int32)\n",
      "Result (element-wise division):\n",
      "tf.Tensor(\n",
      "[[0.5 1. ]\n",
      " [1.5 2. ]], shape=(2, 2), dtype=float64)\n"
     ]
    }
   ],
   "source": [
    "import tensorflow as tf\n",
    "\n",
    "# Define a matrix as a constant\n",
    "matrix = tf.constant([[1, 2], [3, 4]])\n",
    "\n",
    "# Perform element-wise operations\n",
    "result_add = tf.add(matrix, 2)  # Add 2 to each element\n",
    "result_subtract = tf.subtract(matrix, 1)  # Subtract 1 from each element\n",
    "result_multiply = tf.multiply(matrix, 3)  # Multiply each element by 3\n",
    "result_divide = tf.divide(matrix, 2)  # Divide each element by 2\n",
    "\n",
    "# Run the TensorFlow session to evaluate the results\n",
    "with tf.compat.v1.Session() as sess:\n",
    "    print(\"Result (element-wise addition):\")\n",
    "    print(result_add)\n",
    "    print(\"Result (element-wise subtraction):\")\n",
    "    print(result_subtract)\n",
    "    print(\"Result (element-wise multiplication):\")\n",
    "    print(result_multiply)\n",
    "    print(\"Result (element-wise division):\")\n",
    "    print(result_divide)"
   ]
  },
  {
   "cell_type": "markdown",
   "id": "73e616ec-ef39-480a-a1d2-56d1f3c7f9a6",
   "metadata": {},
   "source": [
    "In summary, matrix addition, multiplication, and element-wise operations are essential mathematical operations used in TensorFlow. These operations are performed on tensors, and TensorFlow provides various functions and operators to execute these operations efficiently."
   ]
  },
  {
   "cell_type": "markdown",
   "id": "b58fde4d-a9f8-4703-8825-f34269b644b6",
   "metadata": {},
   "source": [
    "## Part 2: Practical Implementation"
   ]
  },
  {
   "cell_type": "markdown",
   "id": "b1944bb9-7e30-4559-b54f-a665d45efddd",
   "metadata": {},
   "source": [
    "## Task 1: Creating and Manipulating Matrices."
   ]
  },
  {
   "cell_type": "markdown",
   "id": "c744530b-fcbb-4883-8174-036191181838",
   "metadata": {},
   "source": [
    "### 1. Create a normal matrix A with dimensions 3x3, using TensorFlow's random_normal function. Display the values of matrix A."
   ]
  },
  {
   "cell_type": "code",
   "execution_count": 21,
   "id": "35053c95-ca20-4b08-9490-6207e595789f",
   "metadata": {},
   "outputs": [],
   "source": [
    "import tensorflow as tf"
   ]
  },
  {
   "cell_type": "code",
   "execution_count": 42,
   "id": "ab97051a-f35c-4eed-9c97-eb8d99c26787",
   "metadata": {},
   "outputs": [],
   "source": [
    "# Creating the matrix A\n",
    "A=tf.random.normal(shape=(3,3))"
   ]
  },
  {
   "cell_type": "code",
   "execution_count": 43,
   "id": "e9d2a5ab-ca19-4035-b14a-74ed46a671a3",
   "metadata": {},
   "outputs": [
    {
     "name": "stdout",
     "output_type": "stream",
     "text": [
      "tf.Tensor(\n",
      "[[ 0.8615175  -0.9199439   0.7258465 ]\n",
      " [-2.1555352   1.1120759   0.22391117]\n",
      " [ 0.27071527  0.45288032 -0.3192282 ]], shape=(3, 3), dtype=float32)\n"
     ]
    }
   ],
   "source": [
    "# Display the matrix\n",
    "print(A)"
   ]
  },
  {
   "cell_type": "markdown",
   "id": "3f261409-732b-4bca-99a3-4218d8520773",
   "metadata": {},
   "source": [
    "### 2. Create a Gaussian matrix B with dimensions 4x,4 using TensorFlow's truncated_normal function. Display the values of matrix B."
   ]
  },
  {
   "cell_type": "code",
   "execution_count": 24,
   "id": "3f87482b-0219-4910-a149-58b8d4eec1db",
   "metadata": {},
   "outputs": [],
   "source": [
    "B=tf.random.truncated_normal(shape=(4,4),mean=0.0,stddev=1.0)"
   ]
  },
  {
   "cell_type": "code",
   "execution_count": 25,
   "id": "2d8f9fc2-cff4-43cb-bef4-add264046e9e",
   "metadata": {},
   "outputs": [
    {
     "name": "stdout",
     "output_type": "stream",
     "text": [
      "tf.Tensor(\n",
      "[[-0.831235   -0.180148    0.7479372   1.0210761 ]\n",
      " [ 1.0180545   0.22476287 -1.2323446  -0.48305613]\n",
      " [ 0.4536549   0.6536843  -0.35191333 -1.3512433 ]\n",
      " [-0.79390967 -1.6790526   0.50433373  0.16613099]], shape=(4, 4), dtype=float32)\n"
     ]
    }
   ],
   "source": [
    "# Display the value of matrix B\n",
    "print(B)"
   ]
  },
  {
   "cell_type": "markdown",
   "id": "a39961c5-6d7d-4452-82cc-b9c3804f0c25",
   "metadata": {},
   "source": [
    "### 3. Create a matrix C with dimensions 2x2, where the values are drawn from a normal distribution with a mean of 2 and a standard deviation of 0.5, using TensorFlow's random.normal function. Display the values of matrix C."
   ]
  },
  {
   "cell_type": "code",
   "execution_count": 26,
   "id": "9cf42cd0-c3f6-495b-a828-1e773884b70f",
   "metadata": {},
   "outputs": [],
   "source": [
    "mean=2\n",
    "stddev=0.5\n",
    "\n",
    "C=tf.random.normal(shape=(2,2),mean=mean,stddev=stddev)"
   ]
  },
  {
   "cell_type": "code",
   "execution_count": 27,
   "id": "bc3e38b6-30fb-4dfa-ac88-6cf1a90fb386",
   "metadata": {},
   "outputs": [
    {
     "name": "stdout",
     "output_type": "stream",
     "text": [
      "tf.Tensor(\n",
      "[[2.2604613 1.2711923]\n",
      " [2.4598525 2.0281   ]], shape=(2, 2), dtype=float32)\n"
     ]
    }
   ],
   "source": [
    "# Display the value of matrix C\n",
    "print(C)"
   ]
  },
  {
   "cell_type": "markdown",
   "id": "28161000-4822-42af-a461-61ee54b02a30",
   "metadata": {},
   "source": [
    "### 4. Perform matrix addition between matrix A and matrix B, and store the result in matrix D."
   ]
  },
  {
   "cell_type": "code",
   "execution_count": 44,
   "id": "27664feb-8b14-49f2-a2da-c088705264ea",
   "metadata": {},
   "outputs": [],
   "source": [
    "# Add the extra padding in matrix A for addition\n",
    "A_resize=tf.pad(A,paddings=[[0,1],[0,1]])"
   ]
  },
  {
   "cell_type": "code",
   "execution_count": 45,
   "id": "7f99fec0-5f07-45de-9114-7847619c354e",
   "metadata": {},
   "outputs": [],
   "source": [
    "# Addition of the matrix\n",
    "D=tf.add(A_resize,B)"
   ]
  },
  {
   "cell_type": "code",
   "execution_count": 46,
   "id": "b73d9885-adaa-48a7-9f49-149666e43a6b",
   "metadata": {},
   "outputs": [
    {
     "name": "stdout",
     "output_type": "stream",
     "text": [
      "tf.Tensor(\n",
      "[[ 0.0302825  -1.1000919   1.4737837   1.0210761 ]\n",
      " [-1.1374807   1.3368388  -1.0084335  -0.48305613]\n",
      " [ 0.7243701   1.1065646  -0.6711415  -1.3512433 ]\n",
      " [-0.79390967 -1.6790526   0.50433373  0.16613099]], shape=(4, 4), dtype=float32)\n"
     ]
    }
   ],
   "source": [
    "print(D)"
   ]
  },
  {
   "cell_type": "markdown",
   "id": "416073a2-a1f5-491d-82b8-21be4450ad51",
   "metadata": {},
   "source": [
    "### 5. Perform matrix multiplication between matrix C and matrix D, and store the result in matrix E."
   ]
  },
  {
   "cell_type": "code",
   "execution_count": 50,
   "id": "cba61b79-9c5d-4dfd-a8e4-452ee615854e",
   "metadata": {},
   "outputs": [],
   "source": [
    "# Add the extra paddding in matrix C for multiplication\n",
    "C_resize=tf.pad(C,paddings=[[0,0],[0,2]])"
   ]
  },
  {
   "cell_type": "code",
   "execution_count": 52,
   "id": "b4cefaf4-ee94-4d5f-8aea-e1fb92d5d409",
   "metadata": {},
   "outputs": [],
   "source": [
    "E=tf.matmul(C_resize,D)"
   ]
  },
  {
   "cell_type": "code",
   "execution_count": 53,
   "id": "417d4ce2-48ae-4465-abfb-0ef581b160ec",
   "metadata": {},
   "outputs": [
    {
     "name": "stdout",
     "output_type": "stream",
     "text": [
      "tf.Tensor(\n",
      "[[-1.3775043  -0.7873361   2.049518    1.6940458 ]\n",
      " [-2.232434    0.00517917  1.5800867   1.5320104 ]], shape=(2, 4), dtype=float32)\n"
     ]
    }
   ],
   "source": [
    "print(E)"
   ]
  },
  {
   "cell_type": "markdown",
   "id": "c9ecb33f-9f71-4337-b430-5891adea5dd1",
   "metadata": {},
   "source": [
    "## Task 2: Performing Additional Matrix Operations"
   ]
  },
  {
   "cell_type": "markdown",
   "id": "aaba665c-137f-4792-adaf-f2121b38fcc0",
   "metadata": {},
   "source": [
    "### 1. Create a matrix F with dimensions 3x3, initialized with random values using TensorFlow's random_uniform function."
   ]
  },
  {
   "cell_type": "code",
   "execution_count": 58,
   "id": "9aeb7197-e88a-4a2d-9286-4e38551787f3",
   "metadata": {},
   "outputs": [],
   "source": [
    "F=tf.random.uniform(shape=(3,3))"
   ]
  },
  {
   "cell_type": "code",
   "execution_count": 59,
   "id": "14be267b-3fd6-492c-a06f-04341ec7b3a2",
   "metadata": {},
   "outputs": [
    {
     "name": "stdout",
     "output_type": "stream",
     "text": [
      "tf.Tensor(\n",
      "[[0.017169   0.03528774 0.88752043]\n",
      " [0.8403144  0.4043224  0.5119927 ]\n",
      " [0.14254344 0.5471339  0.8085282 ]], shape=(3, 3), dtype=float32)\n"
     ]
    }
   ],
   "source": [
    "print(F)"
   ]
  },
  {
   "cell_type": "markdown",
   "id": "e7bcaf13-ee8e-4722-8157-cc1faffe61ab",
   "metadata": {},
   "source": [
    "### 2. Calculate the transpose of matrix F and store the result in matrix G."
   ]
  },
  {
   "cell_type": "code",
   "execution_count": 60,
   "id": "e3c7f346-4683-4879-9809-c631fb1e2a8d",
   "metadata": {},
   "outputs": [],
   "source": [
    "G=tf.transpose(F)"
   ]
  },
  {
   "cell_type": "code",
   "execution_count": 61,
   "id": "02216cfb-dd74-4e4d-831b-b94b142103b7",
   "metadata": {},
   "outputs": [
    {
     "name": "stdout",
     "output_type": "stream",
     "text": [
      "tf.Tensor(\n",
      "[[0.017169   0.8403144  0.14254344]\n",
      " [0.03528774 0.4043224  0.5471339 ]\n",
      " [0.88752043 0.5119927  0.8085282 ]], shape=(3, 3), dtype=float32)\n"
     ]
    }
   ],
   "source": [
    "print(G)"
   ]
  },
  {
   "cell_type": "markdown",
   "id": "a735aa92-ff3e-4c5a-ab86-4abb01b9d8a7",
   "metadata": {},
   "source": [
    "### 3. Calculate the element-wise exponential of matrix F and store the result in matrix H."
   ]
  },
  {
   "cell_type": "code",
   "execution_count": 62,
   "id": "a1d779bb-d26b-496b-b04a-ab92626ce5e5",
   "metadata": {},
   "outputs": [],
   "source": [
    "H=tf.exp(F)"
   ]
  },
  {
   "cell_type": "code",
   "execution_count": 63,
   "id": "89068a29-7193-417a-97fa-aee2ecd86e0e",
   "metadata": {},
   "outputs": [
    {
     "name": "stdout",
     "output_type": "stream",
     "text": [
      "tf.Tensor(\n",
      "[[1.0173172 1.0359178 2.429099 ]\n",
      " [2.3170953 1.4982868 1.668613 ]\n",
      " [1.1532031 1.7282925 2.244602 ]], shape=(3, 3), dtype=float32)\n"
     ]
    }
   ],
   "source": [
    "print(H)"
   ]
  },
  {
   "cell_type": "markdown",
   "id": "431aaaa6-2be7-4a33-b8e2-d02572bb9bc3",
   "metadata": {},
   "source": [
    "### 4. Create a matrix I by concatenating matrix F and matrix G horizontally."
   ]
  },
  {
   "cell_type": "code",
   "execution_count": 64,
   "id": "600e936c-67c3-4e15-af5d-7aa3266634a0",
   "metadata": {},
   "outputs": [],
   "source": [
    "I=tf.concat([F,G],axis=1)"
   ]
  },
  {
   "cell_type": "code",
   "execution_count": 65,
   "id": "5f56e632-a990-4c82-8179-e731394fbdb3",
   "metadata": {},
   "outputs": [
    {
     "name": "stdout",
     "output_type": "stream",
     "text": [
      "tf.Tensor(\n",
      "[[0.017169   0.03528774 0.88752043 0.017169   0.8403144  0.14254344]\n",
      " [0.8403144  0.4043224  0.5119927  0.03528774 0.4043224  0.5471339 ]\n",
      " [0.14254344 0.5471339  0.8085282  0.88752043 0.5119927  0.8085282 ]], shape=(3, 6), dtype=float32)\n"
     ]
    }
   ],
   "source": [
    "print(I)"
   ]
  },
  {
   "cell_type": "markdown",
   "id": "01e8d0f9-0132-4885-ade4-5a737291780d",
   "metadata": {},
   "source": [
    "### 5. Create a matrix J by concatenating matrix F and matrix H vertically."
   ]
  },
  {
   "cell_type": "code",
   "execution_count": 66,
   "id": "12948d98-5fdc-40fc-8e5f-d453d0d6596d",
   "metadata": {},
   "outputs": [],
   "source": [
    "J=tf.concat([F,H],axis=0)"
   ]
  },
  {
   "cell_type": "code",
   "execution_count": 67,
   "id": "da09726f-efc6-4e95-a23e-a774ed259432",
   "metadata": {},
   "outputs": [
    {
     "name": "stdout",
     "output_type": "stream",
     "text": [
      "tf.Tensor(\n",
      "[[0.017169   0.03528774 0.88752043]\n",
      " [0.8403144  0.4043224  0.5119927 ]\n",
      " [0.14254344 0.5471339  0.8085282 ]\n",
      " [1.0173172  1.0359178  2.429099  ]\n",
      " [2.3170953  1.4982868  1.668613  ]\n",
      " [1.1532031  1.7282925  2.244602  ]], shape=(6, 3), dtype=float32)\n"
     ]
    }
   ],
   "source": [
    "print(J)"
   ]
  },
  {
   "cell_type": "code",
   "execution_count": null,
   "id": "da2e3d70-f530-4505-a20f-0b4c9191823c",
   "metadata": {},
   "outputs": [],
   "source": []
  }
 ],
 "metadata": {
  "kernelspec": {
   "display_name": "Python 3 (ipykernel)",
   "language": "python",
   "name": "python3"
  },
  "language_info": {
   "codemirror_mode": {
    "name": "ipython",
    "version": 3
   },
   "file_extension": ".py",
   "mimetype": "text/x-python",
   "name": "python",
   "nbconvert_exporter": "python",
   "pygments_lexer": "ipython3",
   "version": "3.10.8"
  }
 },
 "nbformat": 4,
 "nbformat_minor": 5
}
